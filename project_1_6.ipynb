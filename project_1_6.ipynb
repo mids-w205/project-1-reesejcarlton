{
 "cells": [
  {
   "cell_type": "markdown",
   "id": "cd11da2a",
   "metadata": {},
   "source": [
    "# Project 1, Part 6, Identifying Best Customers\n"
   ]
  },
  {
   "cell_type": "markdown",
   "id": "701f1c25",
   "metadata": {},
   "source": [
    "# 1.6 Ideas on how the sales data can be used to help identify best customers\n",
    "\n",
    "The data science team would like to know your best ideas on how the sales data can be used to help identify the company's best customers.\n",
    "\n",
    "\n",
    "\n",
    "They are going to start with the most common and most basic model known as RFM, which consists of the 3 dimensions.\n",
    "\n",
    "* R - Recency - How recently did the customer purchase?\n",
    "\n",
    "* F - Frequency - How often do they purchase?\n",
    "\n",
    "* M - Monetary Value - How much do they spend?\n",
    "\n",
    "\n",
    "\n",
    "At first glance, it's pretty easy to think of a simple query for each dimension.\n",
    "\n",
    "However, after some thought, it's not quite so easy. It's very open ended, with a lot of grey areas, and no single right or wrong answer (just like 99% of data science and AI!)  For each dimension, there can be some pretty complex ways to determine.\n",
    "\n",
    "The data science team also has to come up with a way to synthesize the 3 dimensions into a single customer value for each customer.\n",
    "\n",
    "\n",
    "\n",
    "The data science team would like for you to present your ideas in the form of a title and 4 paragraphs as follows:\n",
    "\n",
    "* Title - A title describing what you will be explaining\n",
    "\n",
    "* Recency - A brief paragraph explaining your ideas on how the data can be used to determine recency.  \n",
    "\n",
    "* Frequency - A brief paragraph explaining your ideas on how the data can be used to determine frequency.\n",
    "\n",
    "* Monetary Value - A brief paragraph explaining your ideas on how the data can be used to determine monetary value.\n",
    "\n",
    "* Synthesis - A brief paragraph explaining your ideas on how to synthesize the 3 dimensions of recency, frequency, and monetary value into a customer value for each customer and how to determine who the best customers are.\n",
    "\n",
    "\n",
    "\n",
    "Put the title and all 4 paragraphs in a single markdown cell.\n",
    "\n",
    "Note that you do not write code for this, only english language descriptions of your ideas.\n",
    "\n"
   ]
  },
  {
   "cell_type": "markdown",
   "id": "67dd986f",
   "metadata": {},
   "source": [
    "# Analyzing Customer Engagement: Unveiling Insights through RFM Analysis\n",
    "\n",
    "Recency can be effectively determined by leveraging the sales table. Grouping by customer_id allows the data science team to identify the most recent purchase for each customer by extracting the max(sale_date). To add granularity, incorporating store_id in the group by clause allows for insights into specific store-related recency. Further enrichment can be achieved by joining the sales table with the customers table to obtain additional customer information based on their IDs.\n",
    "\n",
    "Frequency analysis, another crucial dimension, also draws from the sales table. Grouping by customer_id enables the calculation of both the count of purchases and the time span between the customer's first and last purchase by finding the min(sale_date) and max(sale_date). Dividing the count by the time span yields the daily frequency of sales, offering a nuanced understanding of a customer's shopping patterns. For instance, a daily frequency of 2 indicates a customer makes, on average, 2 purchases each day over the specified time frame.\n",
    "\n",
    "Monetary value is derived by grouping the sales table by customer_id, computing the sum of the total amount spent, and factoring in the time span between the first and last purchase by taking the min(sale_date) and max(sale_date). Similar to frequency analysis, dividing the sum by the time span provides the average spending rate per day. This metric offers insights into a customer's consistent spending behavior. For example, an average spending rate of $2 per day signifies the customer's average financial contribution over the observed period.\n",
    "\n",
    "Synthesizing the three dimensions involves creating a unified Customer Value Score. Assigning weights to Recency, Frequency, and Monetary Value based on business priorities enables a comprehensive view of customer engagement. Normalizing and combining these scores yields a dynamic metric that identifies the best customers. Regularly recalibrating weights ensures adaptability to changing business dynamics. The best customers emerge as those with the highest composite scores, representing recent, frequent, and financially impactful interactions with the business.\n",
    "\n"
   ]
  },
  {
   "cell_type": "code",
   "execution_count": null,
   "id": "9f730f3d",
   "metadata": {},
   "outputs": [],
   "source": []
  }
 ],
 "metadata": {
  "kernelspec": {
   "display_name": "Python 3 (ipykernel)",
   "language": "python",
   "name": "python3"
  },
  "language_info": {
   "codemirror_mode": {
    "name": "ipython",
    "version": 3
   },
   "file_extension": ".py",
   "mimetype": "text/x-python",
   "name": "python",
   "nbconvert_exporter": "python",
   "pygments_lexer": "ipython3",
   "version": "3.9.7"
  }
 },
 "nbformat": 4,
 "nbformat_minor": 5
}
